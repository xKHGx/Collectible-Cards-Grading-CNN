{
 "cells": [
  {
   "cell_type": "markdown",
   "metadata": {},
   "source": [
    "# Image Scrapper"
   ]
  },
  {
   "cell_type": "code",
   "execution_count": 1,
   "metadata": {},
   "outputs": [],
   "source": [
    "# Imports:\n",
    "from selenium import webdriver\n",
    "from selenium.webdriver.common.by import By\n",
    "import requests\n",
    "import urllib\n",
    "import time\n",
    "import undetected_chromedriver as uc\n",
    "from selenium.webdriver.support.ui import WebDriverWait\n",
    "from selenium.webdriver.support import expected_conditions as EC\n",
    "import os\n",
    "from seleniumbase import Driver\n"
   ]
  },
  {
   "cell_type": "code",
   "execution_count": 2,
   "metadata": {},
   "outputs": [],
   "source": [
    "# site link to scrap data\n",
    "URL = 'insert link'\n",
    "\n",
    "# folder to save scrapper data\n",
    "FOLDER = \"insert folder path\""
   ]
  },
  {
   "cell_type": "code",
   "execution_count": 3,
   "metadata": {},
   "outputs": [],
   "source": [
    "# define start and stop range\n",
    "start = 1\n",
    "end = 1000\n",
    "\n",
    "for num in range(start, end):\n",
    "\n",
    "        img_data =[]\n",
    "        text_data = []\n",
    "\n",
    "        # instantiate seleniumbase driver\n",
    "        # set undetected chrome driver, headless brower and incognito mode = True\n",
    "        driver = Driver(uc=True, headless = True, incognito = True)\n",
    "\n",
    "        url = URL + str(num)\n",
    "\n",
    "        print(f'Scrapping: {url}')\n",
    "        \n",
    "        driver.get(url)\n",
    "          \n",
    "        try:\n",
    "\n",
    "                table = driver.find_element(By.TAG_NAME, \"table\")\n",
    "\n",
    "                for item in table.find_elements(By.TAG_NAME,'td'):\n",
    "                        text_data.append(item.text) \n",
    "\n",
    "                click_images = driver.find_elements(By.XPATH, \"//img[@class='img-responsive']\")\n",
    "\n",
    "                for small_img in click_images:\n",
    "                        img_data.append(small_img.get_attribute('src'))  \n",
    "\n",
    "                time.sleep(2)\n",
    "\n",
    "                # simulate click on small image to access large image\n",
    "                small_img = WebDriverWait(driver,10).until(EC.element_to_be_clickable((By.XPATH,f\"//img[@class='img-responsive'][@src='{img_data[0]}']\"))).click()\n",
    "\n",
    "                time.sleep(3)\n",
    "\n",
    "                # save links to large images\n",
    "                large_img = driver.find_elements(By.XPATH, \"//img[@class='lg-object lg-image']\")\n",
    "\n",
    "                # first image access is always front\n",
    "                side = \"Front\"\n",
    "\n",
    "                # save image data as image file name, tag by front or back\n",
    "                for img in large_img:\n",
    "                        url = img.get_attribute('src')\n",
    "                        filename = '_'.join(text_data)\n",
    "                        filename = filename.replace(\" \",\"_\")\n",
    "                        filename = filename.replace(\"&\",\"_\")\n",
    "                        filename = filename.replace(\"/\",\"_\")\n",
    "                        filenameext = \"Company_\" + filename + f\"_{side}\" + \".jpg\"\n",
    "                        side =\"Back\"\n",
    "                        fullfilename = os.path.join(FOLDER, filenameext)\n",
    "                        # print(fullfilename)\n",
    "                        urllib.request.urlretrieve(url, fullfilename)\n",
    "\n",
    "                driver.quit()\n",
    "                time.sleep(2)\n",
    "\n",
    "        except Exception:\n",
    "                driver.quit()\n",
    "\n",
    "\n",
    "# driver.close() # close the active tab\n",
    "# driver.quit() # quit the entire program"
   ]
  }
 ],
 "metadata": {
  "anaconda-cloud": {},
  "kernelspec": {
   "display_name": "Python 3 (ipykernel)",
   "language": "python",
   "name": "python3"
  },
  "language_info": {
   "codemirror_mode": {
    "name": "ipython",
    "version": 3
   },
   "file_extension": ".py",
   "mimetype": "text/x-python",
   "name": "python",
   "nbconvert_exporter": "python",
   "pygments_lexer": "ipython3",
   "version": "3.11.8"
  }
 },
 "nbformat": 4,
 "nbformat_minor": 4
}
