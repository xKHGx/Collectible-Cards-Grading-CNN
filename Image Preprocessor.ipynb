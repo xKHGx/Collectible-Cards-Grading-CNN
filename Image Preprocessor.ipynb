{
 "cells": [
  {
   "cell_type": "markdown",
   "metadata": {},
   "source": [
    "# Image Preprocessor"
   ]
  },
  {
   "cell_type": "code",
   "execution_count": 1,
   "metadata": {},
   "outputs": [],
   "source": [
    "# sample dataframes\n",
    "import pandas as pd\n",
    "\n",
    "# manipulate images\n",
    "import cv2\n",
    "\n",
    "# saving files in folders\n",
    "import os\n",
    "\n",
    "# regex\n",
    "import re"
   ]
  },
  {
   "cell_type": "code",
   "execution_count": 3,
   "metadata": {},
   "outputs": [],
   "source": [
    "# data file paths\n",
    "raw_data_path = '..\\Img label test\\Raw Data'\n",
    "raw_crop_path = '..\\Img label test\\Raw Crop'\n",
    "raw_concat_path = '..\\Img label test\\Raw Concat'\n",
    "\n",
    "file_extension = '.jpg'"
   ]
  },
  {
   "cell_type": "code",
   "execution_count": 4,
   "metadata": {},
   "outputs": [
    {
     "name": "stdout",
     "output_type": "stream",
     "text": [
      "                                                      0\n",
      "0     PSA_64400001_with fugitive ink technology_Yes_...\n",
      "1     PSA_64400001_with fugitive ink technology_Yes_...\n",
      "2     PSA_64400002_with fugitive ink technology_Yes_...\n",
      "3     PSA_64400002_with fugitive ink technology_Yes_...\n",
      "4     PSA_64400003_with fugitive ink technology_Yes_...\n",
      "...                                                 ...\n",
      "3144  PSA_87137160_with_fugitive_ink_technology_Yes_...\n",
      "3145  PSA_87137925_with_fugitive_ink_technology_Yes_...\n",
      "3146  PSA_87137925_with_fugitive_ink_technology_Yes_...\n",
      "3147  PSA_87137926_with_fugitive_ink_technology_Yes_...\n",
      "3148  PSA_87137926_with_fugitive_ink_technology_Yes_...\n",
      "\n",
      "[3149 rows x 1 columns]\n"
     ]
    }
   ],
   "source": [
    "from helper_functions import crop_img\n",
    "\n",
    "# resize and crop images\n",
    "crop_img(raw_data_path, raw_crop_path)"
   ]
  },
  {
   "cell_type": "code",
   "execution_count": 7,
   "metadata": {},
   "outputs": [
    {
     "name": "stdout",
     "output_type": "stream",
     "text": [
      "Empty DataFrame\n",
      "Columns: []\n",
      "Index: []\n"
     ]
    }
   ],
   "source": [
    "from helper_functions import concat_img\n",
    "\n",
    "# concat images using same ID number with filter criteria.\n",
    "concat_img(raw_crop_path, raw_concat_path)"
   ]
  },
  {
   "cell_type": "code",
   "execution_count": 8,
   "metadata": {},
   "outputs": [
    {
     "name": "stdout",
     "output_type": "stream",
     "text": [
      "Samples to drop: {'64400954', '87115854', '64400442', '87132509', '64404136', '87093318', '87132504', '87128880', '87127211', '78390474', '87120020', '87131719', '87117237', '87117234', '87109180', '78390475', '64402625', '87093296', '87117230', '64400443', '87117233', '64400366', '87093319', '87093293', '87105012', '87093297', '87115855', '87117229', '64400005', '87132522', '64400007', '87115869', '87117231', '64400571', '87132525', '64400449', '87117238', '87133508', '87093298', '64400561', '87093302', '64400562', '64400439', '87132515', '87105008', '87105016', '64403487', '64404138', '64404127', '78390477', '87131975', '87093304', '64403108', '87131495', '87131215', '87131939', '87093292', '87132506', '87105536', '87132527', '87137925', '78397312', '87093299', '64400078', '87131709', '87132511', '87132513', '87132524', '87131557', '87131717', '78390476', '64400953', '87105017', '64404133', '87105004', '87093320', '78397308', '87117232', '64400003', '64400556', '78396958', '64400435', '64400433', '64400553', '87131711', '64400555', '87115871', '87110780', '87120854', '78397311', '87131708', '64400559', '87093300', '64400436', '87132526', '78397216', '87137926', '64404139', '87110149', '64400438', '87115866', '78390484', '87127209', '64400446', '87105005', '64400367', '64400569', '87131214', '87127210', '64400560', '64400434', '78397310', '87105015', '64400575', '64404132', '64400444', '87093301', '64400006', '78390480', '87093315', '87133509', '64400564', '87093317', '87124286', '87093303', '64400951', '87093295', '64400558', '87119847', '87132559', '64400448', '87115870', '87120853', '87132502', '87132517', '78397307', '87132505', '64404137', '64400566', '64400447', '64400567', '64404135', '64400568', '87131716', '87093316', '64400437', '87119846', '64400572', '87115868', '64400956', '87131938', '87115872', '78390478', '64400002', '87105014', '87132514', '64400554', '64400574', '64402139', '87093314', '87093305', '64400952', '78397309', '64400565', '64400573', '87131940', '87093294', '87132520', '87117235', '64400004', '87115867', '87131974', '87117236', '87131714', '87132510', '87120019', '87132519', '78396959', '78390481', '64400009', '64400570', '87132507', '64400445', '87105006', '87128826', '64400563', '64400441', '87105013', '87093306', '87131718', '78396318', '78397313', '87131710', '87132503', '64400001', '87132508', '78390479', '87131715', '64400440', '64403090', '87132512', '78390483', '87117239', '64403431', '78390482', '64400955', '87105007', '64400557', '64404134'}\n",
      "Samples dropped: 209.0\n",
      "Samples to drop: set()\n",
      "Samples dropped: 0.0\n",
      "Samples to drop: set()\n",
      "Samples dropped: 0.0\n"
     ]
    }
   ],
   "source": [
    "from helper_functions import generate_df\n",
    "\n",
    "# generate data df\n",
    "raw_data_df = generate_df(raw_data_path)\n",
    "raw_crop_df = generate_df(raw_crop_path)\n",
    "raw_concat_df = generate_df(raw_concat_path)"
   ]
  },
  {
   "cell_type": "code",
   "execution_count": 9,
   "metadata": {},
   "outputs": [],
   "source": [
    "# save csv for modelling\n",
    "raw_data_df.to_csv('raw_data.csv')\n",
    "raw_crop_df.to_csv('raw_crop.csv')\n",
    "raw_concat_df.to_csv('raw_concat.csv')"
   ]
  }
 ],
 "metadata": {
  "anaconda-cloud": {},
  "kernelspec": {
   "display_name": "Python 3 (ipykernel)",
   "language": "python",
   "name": "python3"
  },
  "language_info": {
   "codemirror_mode": {
    "name": "ipython",
    "version": 3
   },
   "file_extension": ".py",
   "mimetype": "text/x-python",
   "name": "python",
   "nbconvert_exporter": "python",
   "pygments_lexer": "ipython3",
   "version": "3.11.8"
  }
 },
 "nbformat": 4,
 "nbformat_minor": 4
}
